{
 "cells": [
  {
   "cell_type": "code",
   "execution_count": 1,
   "id": "a84ad2e4",
   "metadata": {},
   "outputs": [
    {
     "name": "stdout",
     "output_type": "stream",
     "text": [
      "Collecting kaggle\n",
      "  Downloading kaggle-1.5.16.tar.gz (83 kB)\n",
      "                                              0.0/83.6 kB ? eta -:--:--\n",
      "     ----                                     10.2/83.6 kB ? eta -:--:--\n",
      "     -------------                          30.7/83.6 kB 262.6 kB/s eta 0:00:01\n",
      "     ---------------------------            61.4/83.6 kB 469.7 kB/s eta 0:00:01\n",
      "     -------------------------------------  81.9/83.6 kB 459.5 kB/s eta 0:00:01\n",
      "     -------------------------------------  81.9/83.6 kB 459.5 kB/s eta 0:00:01\n",
      "     -------------------------------------- 83.6/83.6 kB 334.9 kB/s eta 0:00:00\n",
      "  Preparing metadata (setup.py): started\n",
      "  Preparing metadata (setup.py): finished with status 'done'\n",
      "Requirement already satisfied: six>=1.10 in c:\\users\\asus\\appdata\\roaming\\python\\python311\\site-packages (from kaggle) (1.16.0)\n",
      "Collecting certifi (from kaggle)\n",
      "  Downloading certifi-2023.7.22-py3-none-any.whl (158 kB)\n",
      "                                              0.0/158.3 kB ? eta -:--:--\n",
      "     ----------                              41.0/158.3 kB 1.9 MB/s eta 0:00:01\n",
      "     -----------------                       71.7/158.3 kB 1.3 MB/s eta 0:00:01\n",
      "     -----------------------------          122.9/158.3 kB 1.2 MB/s eta 0:00:01\n",
      "     ------------------------------------   153.6/158.3 kB 1.1 MB/s eta 0:00:01\n",
      "     ------------------------------------ 158.3/158.3 kB 787.7 kB/s eta 0:00:00\n",
      "Requirement already satisfied: python-dateutil in c:\\users\\asus\\appdata\\roaming\\python\\python311\\site-packages (from kaggle) (2.8.2)\n",
      "Collecting requests (from kaggle)\n",
      "  Downloading requests-2.31.0-py3-none-any.whl (62 kB)\n",
      "                                              0.0/62.6 kB ? eta -:--:--\n",
      "     ---------------------------------------  61.4/62.6 kB 3.4 MB/s eta 0:00:01\n",
      "     -------------------------------------- 62.6/62.6 kB 844.1 kB/s eta 0:00:00\n",
      "Collecting tqdm (from kaggle)\n",
      "  Downloading tqdm-4.66.0-py3-none-any.whl (78 kB)\n",
      "                                              0.0/78.1 kB ? eta -:--:--\n",
      "     -------------------                    41.0/78.1 kB 991.0 kB/s eta 0:00:01\n",
      "     ------------------------------------     71.7/78.1 kB 2.0 MB/s eta 0:00:01\n",
      "     ------------------------------------     71.7/78.1 kB 2.0 MB/s eta 0:00:01\n",
      "     ------------------------------------     71.7/78.1 kB 2.0 MB/s eta 0:00:01\n",
      "     ------------------------------------     71.7/78.1 kB 2.0 MB/s eta 0:00:01\n",
      "     ------------------------------------     71.7/78.1 kB 2.0 MB/s eta 0:00:01\n",
      "     ------------------------------------     71.7/78.1 kB 2.0 MB/s eta 0:00:01\n",
      "     -------------------------------------- 78.1/78.1 kB 217.7 kB/s eta 0:00:00\n",
      "Collecting python-slugify (from kaggle)\n",
      "  Downloading python_slugify-8.0.1-py2.py3-none-any.whl (9.7 kB)\n",
      "Collecting urllib3 (from kaggle)\n",
      "  Downloading urllib3-2.0.4-py3-none-any.whl (123 kB)\n",
      "                                              0.0/123.9 kB ? eta -:--:--\n",
      "     ----------------                        51.2/123.9 kB 1.3 MB/s eta 0:00:01\n",
      "     ----------------------------------     112.6/123.9 kB 1.6 MB/s eta 0:00:01\n",
      "     -------------------------------------  122.9/123.9 kB 1.4 MB/s eta 0:00:01\n",
      "     ------------------------------------ 123.9/123.9 kB 806.2 kB/s eta 0:00:00\n",
      "Requirement already satisfied: bleach in c:\\users\\asus\\anaconda3\\envs\\opencv\\lib\\site-packages (from kaggle) (4.1.0)\n",
      "Requirement already satisfied: packaging in c:\\users\\asus\\appdata\\roaming\\python\\python311\\site-packages (from bleach->kaggle) (23.1)\n",
      "Requirement already satisfied: webencodings in c:\\users\\asus\\anaconda3\\envs\\opencv\\lib\\site-packages (from bleach->kaggle) (0.5.1)\n",
      "Collecting text-unidecode>=1.3 (from python-slugify->kaggle)\n",
      "  Downloading text_unidecode-1.3-py2.py3-none-any.whl (78 kB)\n",
      "                                              0.0/78.2 kB ? eta -:--:--\n",
      "     ---------------                          30.7/78.2 kB 1.3 MB/s eta 0:00:01\n",
      "     ------------------------------------     71.7/78.2 kB 1.3 MB/s eta 0:00:01\n",
      "     -------------------------------------- 78.2/78.2 kB 870.7 kB/s eta 0:00:00\n",
      "Collecting charset-normalizer<4,>=2 (from requests->kaggle)\n",
      "  Downloading charset_normalizer-3.2.0-cp311-cp311-win_amd64.whl (96 kB)\n",
      "                                              0.0/96.6 kB ? eta -:--:--\n",
      "     ----------------                       41.0/96.6 kB 991.0 kB/s eta 0:00:01\n",
      "     --------------------------------------   92.2/96.6 kB 1.7 MB/s eta 0:00:01\n",
      "     -------------------------------------- 96.6/96.6 kB 918.3 kB/s eta 0:00:00\n",
      "Requirement already satisfied: idna<4,>=2.5 in c:\\users\\asus\\anaconda3\\envs\\opencv\\lib\\site-packages (from requests->kaggle) (3.4)\n",
      "Requirement already satisfied: colorama in c:\\users\\asus\\appdata\\roaming\\python\\python311\\site-packages (from tqdm->kaggle) (0.4.6)\n",
      "Building wheels for collected packages: kaggle\n",
      "  Building wheel for kaggle (setup.py): started\n",
      "  Building wheel for kaggle (setup.py): finished with status 'done'\n",
      "  Created wheel for kaggle: filename=kaggle-1.5.16-py3-none-any.whl size=110697 sha256=0ddabb94385785850d6cf895f84c5520172667fffe650e0789a048f1a9134571\n",
      "  Stored in directory: c:\\users\\asus\\appdata\\local\\pip\\cache\\wheels\\6a\\2b\\d0\\457dd27de499e9423caf738e743c4a3f82886ee6b19f89d5b7\n",
      "Successfully built kaggle\n",
      "Installing collected packages: text-unidecode, urllib3, tqdm, python-slugify, charset-normalizer, certifi, requests, kaggle\n",
      "Successfully installed certifi-2023.7.22 charset-normalizer-3.2.0 kaggle-1.5.16 python-slugify-8.0.1 requests-2.31.0 text-unidecode-1.3 tqdm-4.66.0 urllib3-2.0.4\n"
     ]
    }
   ],
   "source": [
    "!pip install kaggle"
   ]
  },
  {
   "cell_type": "code",
   "execution_count": null,
   "id": "43f02177",
   "metadata": {},
   "outputs": [],
   "source": [
    " ` ! mkdir ~/.kaggle`~"
   ]
  }
 ],
 "metadata": {
  "kernelspec": {
   "display_name": "Python 3 (ipykernel)",
   "language": "python",
   "name": "python3"
  },
  "language_info": {
   "codemirror_mode": {
    "name": "ipython",
    "version": 3
   },
   "file_extension": ".py",
   "mimetype": "text/x-python",
   "name": "python",
   "nbconvert_exporter": "python",
   "pygments_lexer": "ipython3",
   "version": "3.11.4"
  }
 },
 "nbformat": 4,
 "nbformat_minor": 5
}
