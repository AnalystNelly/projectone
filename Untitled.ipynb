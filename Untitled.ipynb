{
 "cells": [
  {
   "cell_type": "code",
   "execution_count": 3,
   "id": "c8282c52",
   "metadata": {},
   "outputs": [],
   "source": [
    "import pandas as pd\n"
   ]
  },
  {
   "cell_type": "code",
   "execution_count": null,
   "id": "92bee201",
   "metadata": {},
   "outputs": [],
   "source": [
    "df = pd.read_csv('https://raw.githubusercontent.com/databricks/Spark-The-Definitive-Guide/master/data/retail-data/all/online-retail-dataset.csv')\n",
    "df"
   ]
  },
  {
   "cell_type": "code",
   "execution_count": null,
   "id": "aa2c5cf4",
   "metadata": {},
   "outputs": [],
   "source": [
    "df.info()"
   ]
  },
  {
   "cell_type": "code",
   "execution_count": null,
   "id": "0b6eec0e",
   "metadata": {},
   "outputs": [],
   "source": [
    "df = df[df['CustomerID'].notnull()].reset_index(drop=True)"
   ]
  },
  {
   "cell_type": "code",
   "execution_count": null,
   "id": "7e15b1b6",
   "metadata": {},
   "outputs": [],
   "source": [
    "df.info()"
   ]
  },
  {
   "cell_type": "code",
   "execution_count": null,
   "id": "d1e4f3fd",
   "metadata": {},
   "outputs": [],
   "source": [
    "df['InvoiceDate'] = pd.to_datetime(df['InvoiceDate'])"
   ]
  },
  {
   "cell_type": "code",
   "execution_count": null,
   "id": "e3cc1e29",
   "metadata": {},
   "outputs": [],
   "source": [
    "df['CustomerID'] = df['CustomerID'].astype(int).astype(str)"
   ]
  },
  {
   "cell_type": "code",
   "execution_count": null,
   "id": "5f954a2a",
   "metadata": {},
   "outputs": [],
   "source": [
    "df.describe()"
   ]
  },
  {
   "cell_type": "code",
   "execution_count": null,
   "id": "51c56a66",
   "metadata": {},
   "outputs": [],
   "source": [
    "df[df['Quantity']<0]"
   ]
  },
  {
   "cell_type": "code",
   "execution_count": null,
   "id": "33f472a6",
   "metadata": {},
   "outputs": [],
   "source": [
    "df = df[df['Quantity']>0].reset_index(drop=True)"
   ]
  },
  {
   "cell_type": "code",
   "execution_count": null,
   "id": "126bb7c0",
   "metadata": {},
   "outputs": [],
   "source": [
    "df.describe()"
   ]
  },
  {
   "cell_type": "code",
   "execution_count": null,
   "id": "44188de8",
   "metadata": {},
   "outputs": [],
   "source": [
    "#Harga\n",
    "df['TotalPrice'] = df['Quantity'] * df['UnitPrice']\n"
   ]
  },
  {
   "cell_type": "code",
   "execution_count": null,
   "id": "822bb03e",
   "metadata": {},
   "outputs": [],
   "source": [
    "df.head()"
   ]
  },
  {
   "cell_type": "code",
   "execution_count": null,
   "id": "8c102063",
   "metadata": {},
   "outputs": [],
   "source": [
    "#Recency\n",
    "df.groupby('CustomerID')['InvoiceDate'].last()"
   ]
  },
  {
   "cell_type": "code",
   "execution_count": null,
   "id": "05e23695",
   "metadata": {},
   "outputs": [],
   "source": [
    "# Frequency\n",
    "df.groupby('CustomerID')['InvoiceNo'].count()"
   ]
  },
  {
   "cell_type": "code",
   "execution_count": null,
   "id": "80413602",
   "metadata": {},
   "outputs": [],
   "source": [
    "#pricy\n",
    "df.groupby('CustomerID')['TotalPrice'].sum()"
   ]
  },
  {
   "cell_type": "code",
   "execution_count": null,
   "id": "340475a2",
   "metadata": {},
   "outputs": [],
   "source": [
    "data = df.groupby('CustomerID').agg({\n",
    "    'InvoiceDate' : 'last', 'InvoiceNo' : 'count', 'TotalPrice' : 'sum'\n",
    "})\n",
    "data"
   ]
  },
  {
   "cell_type": "code",
   "execution_count": null,
   "id": "d7b56f1d",
   "metadata": {},
   "outputs": [],
   "source": [
    "most_recent_date = df['InvoiceDate'].max()\n",
    "most_recent_date"
   ]
  },
  {
   "cell_type": "code",
   "execution_count": null,
   "id": "aa58496f",
   "metadata": {},
   "outputs": [],
   "source": [
    "data['DurationLastPurchase'] = (most_recent_date - data['InvoiceDate']).dt.days"
   ]
  },
  {
   "cell_type": "code",
   "execution_count": 108,
   "id": "81c00818",
   "metadata": {},
   "outputs": [
    {
     "data": {
      "text/html": [
       "<div>\n",
       "<style scoped>\n",
       "    .dataframe tbody tr th:only-of-type {\n",
       "        vertical-align: middle;\n",
       "    }\n",
       "\n",
       "    .dataframe tbody tr th {\n",
       "        vertical-align: top;\n",
       "    }\n",
       "\n",
       "    .dataframe thead th {\n",
       "        text-align: right;\n",
       "    }\n",
       "</style>\n",
       "<table border=\"1\" class=\"dataframe\">\n",
       "  <thead>\n",
       "    <tr style=\"text-align: right;\">\n",
       "      <th></th>\n",
       "      <th>InvoiceDate</th>\n",
       "      <th>InvoiceNo</th>\n",
       "      <th>TotalPrice</th>\n",
       "      <th>DurationLastPurchase</th>\n",
       "    </tr>\n",
       "  </thead>\n",
       "  <tbody>\n",
       "    <tr>\n",
       "      <th>0</th>\n",
       "      <td>2011-01-18 10:01:00</td>\n",
       "      <td>1</td>\n",
       "      <td>77183.60</td>\n",
       "      <td>325</td>\n",
       "    </tr>\n",
       "    <tr>\n",
       "      <th>1</th>\n",
       "      <td>2011-12-07 15:52:00</td>\n",
       "      <td>182</td>\n",
       "      <td>4310.00</td>\n",
       "      <td>1</td>\n",
       "    </tr>\n",
       "    <tr>\n",
       "      <th>2</th>\n",
       "      <td>2011-09-25 13:13:00</td>\n",
       "      <td>31</td>\n",
       "      <td>1797.24</td>\n",
       "      <td>74</td>\n",
       "    </tr>\n",
       "    <tr>\n",
       "      <th>3</th>\n",
       "      <td>2011-11-21 09:51:00</td>\n",
       "      <td>73</td>\n",
       "      <td>1757.55</td>\n",
       "      <td>18</td>\n",
       "    </tr>\n",
       "    <tr>\n",
       "      <th>4</th>\n",
       "      <td>2011-02-02 16:01:00</td>\n",
       "      <td>17</td>\n",
       "      <td>334.40</td>\n",
       "      <td>309</td>\n",
       "    </tr>\n",
       "    <tr>\n",
       "      <th>...</th>\n",
       "      <td>...</td>\n",
       "      <td>...</td>\n",
       "      <td>...</td>\n",
       "      <td>...</td>\n",
       "    </tr>\n",
       "    <tr>\n",
       "      <th>4334</th>\n",
       "      <td>2011-03-07 09:52:00</td>\n",
       "      <td>10</td>\n",
       "      <td>180.60</td>\n",
       "      <td>277</td>\n",
       "    </tr>\n",
       "    <tr>\n",
       "      <th>4335</th>\n",
       "      <td>2011-06-12 10:53:00</td>\n",
       "      <td>7</td>\n",
       "      <td>80.82</td>\n",
       "      <td>180</td>\n",
       "    </tr>\n",
       "    <tr>\n",
       "      <th>4336</th>\n",
       "      <td>2011-12-02 11:43:00</td>\n",
       "      <td>12</td>\n",
       "      <td>178.05</td>\n",
       "      <td>7</td>\n",
       "    </tr>\n",
       "    <tr>\n",
       "      <th>4337</th>\n",
       "      <td>2011-12-06 12:02:00</td>\n",
       "      <td>756</td>\n",
       "      <td>2094.88</td>\n",
       "      <td>3</td>\n",
       "    </tr>\n",
       "    <tr>\n",
       "      <th>4338</th>\n",
       "      <td>2011-10-28 09:29:00</td>\n",
       "      <td>70</td>\n",
       "      <td>1837.28</td>\n",
       "      <td>42</td>\n",
       "    </tr>\n",
       "  </tbody>\n",
       "</table>\n",
       "<p>4339 rows × 4 columns</p>\n",
       "</div>"
      ],
      "text/plain": [
       "             InvoiceDate  InvoiceNo  TotalPrice  DurationLastPurchase\n",
       "0    2011-01-18 10:01:00          1    77183.60                   325\n",
       "1    2011-12-07 15:52:00        182     4310.00                     1\n",
       "2    2011-09-25 13:13:00         31     1797.24                    74\n",
       "3    2011-11-21 09:51:00         73     1757.55                    18\n",
       "4    2011-02-02 16:01:00         17      334.40                   309\n",
       "...                  ...        ...         ...                   ...\n",
       "4334 2011-03-07 09:52:00         10      180.60                   277\n",
       "4335 2011-06-12 10:53:00          7       80.82                   180\n",
       "4336 2011-12-02 11:43:00         12      178.05                     7\n",
       "4337 2011-12-06 12:02:00        756     2094.88                     3\n",
       "4338 2011-10-28 09:29:00         70     1837.28                    42\n",
       "\n",
       "[4339 rows x 4 columns]"
      ]
     },
     "execution_count": 108,
     "metadata": {},
     "output_type": "execute_result"
    }
   ],
   "source": [
    "data"
   ]
  },
  {
   "cell_type": "code",
   "execution_count": 105,
   "id": "39491f5b",
   "metadata": {},
   "outputs": [],
   "source": [
    "data = data.reset_index(drop=True)"
   ]
  },
  {
   "cell_type": "code",
   "execution_count": 107,
   "id": "c27c9163",
   "metadata": {},
   "outputs": [
    {
     "name": "stdout",
     "output_type": "stream",
     "text": [
      "<class 'pandas.core.frame.DataFrame'>\n",
      "RangeIndex: 4339 entries, 0 to 4338\n",
      "Data columns (total 4 columns):\n",
      " #   Column                Non-Null Count  Dtype         \n",
      "---  ------                --------------  -----         \n",
      " 0   InvoiceDate           4339 non-null   datetime64[ns]\n",
      " 1   InvoiceNo             4339 non-null   int64         \n",
      " 2   TotalPrice            4339 non-null   float64       \n",
      " 3   DurationLastPurchase  4339 non-null   int64         \n",
      "dtypes: datetime64[ns](1), float64(1), int64(2)\n",
      "memory usage: 135.7 KB\n"
     ]
    }
   ],
   "source": [
    "data.info()"
   ]
  },
  {
   "cell_type": "code",
   "execution_count": null,
   "id": "5f44fc37",
   "metadata": {},
   "outputs": [],
   "source": []
  },
  {
   "cell_type": "code",
   "execution_count": null,
   "id": "b0a82acb",
   "metadata": {},
   "outputs": [],
   "source": []
  },
  {
   "cell_type": "code",
   "execution_count": null,
   "id": "a6c81dd6",
   "metadata": {},
   "outputs": [],
   "source": []
  },
  {
   "cell_type": "code",
   "execution_count": null,
   "id": "dc1d4ca7",
   "metadata": {},
   "outputs": [],
   "source": []
  }
 ],
 "metadata": {
  "kernelspec": {
   "display_name": "Python 3 (ipykernel)",
   "language": "python",
   "name": "python3"
  },
  "language_info": {
   "codemirror_mode": {
    "name": "ipython",
    "version": 3
   },
   "file_extension": ".py",
   "mimetype": "text/x-python",
   "name": "python",
   "nbconvert_exporter": "python",
   "pygments_lexer": "ipython3",
   "version": "3.11.4"
  }
 },
 "nbformat": 4,
 "nbformat_minor": 5
}
